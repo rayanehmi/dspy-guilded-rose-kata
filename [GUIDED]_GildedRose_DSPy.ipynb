{
  "cells": [
    {
      "cell_type": "markdown",
      "metadata": {
        "id": "38Qtr4M8q26N"
      },
      "source": [
        "**Author Note**:\n",
        "\n",
        "I wrote this notebook while learning DSPy. Use it to learn yourself and feel free to suggest improvements.\n",
        "\n",
        "This notebook is the guided version. Feel free to explore other ways to reframe the problem, or switch to the solutions/non-guided versions on my github.\n",
        "\n",
        "Estimated time: ~1h\n",
        "\n",
        "Estimated API cost (using 4.1 nano) :\n",
        "\n",
        "* < $0.1 without optimization runs\n",
        "\n",
        "* < $1.0 with optimization runs\n",
        "\n",
        "Author: Rayane Hachemi ([github](https://github.com/rayanehmi))"
      ]
    },
    {
      "cell_type": "markdown",
      "metadata": {
        "id": "EdQVbeYhUk0t"
      },
      "source": [
        "# DSPy Guilded Rose Kata"
      ]
    },
    {
      "cell_type": "markdown",
      "metadata": {
        "id": "wIp9fOP5ZBf0"
      },
      "source": [
        "## Problem Introduction\n",
        "\n",
        "The Guilded Rose kata is a refactoring exercise for developpers. Learn more about the problem on this GitHub repository: https://github.com/emilybache/GildedRose-Refactoring-Kata.\n",
        "\n"
      ]
    },
    {
      "cell_type": "markdown",
      "metadata": {
        "id": "WYV0P4QybtLt"
      },
      "source": [
        "### Guilded Rose Item Update Code\n",
        "\n",
        "The goal of the kata is to refactor the following code into a cleaner version, and add a new functionality :\n",
        "\n",
        "```python\n",
        "class GildedRose(object):\n",
        "\n",
        "    def __init__(self, items):\n",
        "        self.items = items\n",
        "\n",
        "    def update_quality(self):\n",
        "        for item in self.items:\n",
        "            if item.name != \"Aged Brie\" and item.name != \"Backstage passes to a TAFKAL80ETC concert\":\n",
        "                if item.quality > 0:\n",
        "                    if item.name != \"Sulfuras, Hand of Ragnaros\":\n",
        "                        item.quality = item.quality - 1\n",
        "            else:\n",
        "                if item.quality < 50:\n",
        "                    item.quality = item.quality + 1\n",
        "                    if item.name == \"Backstage passes to a TAFKAL80ETC concert\":\n",
        "                        if item.sell_in < 11:\n",
        "                            if item.quality < 50:\n",
        "                                item.quality = item.quality + 1\n",
        "                        if item.sell_in < 6:\n",
        "                            if item.quality < 50:\n",
        "                                item.quality = item.quality + 1\n",
        "            if item.name != \"Sulfuras, Hand of Ragnaros\":\n",
        "                item.sell_in = item.sell_in - 1\n",
        "            if item.sell_in < 0:\n",
        "                if item.name != \"Aged Brie\":\n",
        "                    if item.name != \"Backstage passes to a TAFKAL80ETC concert\":\n",
        "                        if item.quality > 0:\n",
        "                            if item.name != \"Sulfuras, Hand of Ragnaros\":\n",
        "                                item.quality = item.quality - 1\n",
        "                    else:\n",
        "                        item.quality = item.quality - item.quality\n",
        "                else:\n",
        "                    if item.quality < 50:\n",
        "                        item.quality = item.quality + 1\n",
        "\n",
        "\n",
        "class Item:\n",
        "    def __init__(self, name, sell_in, quality):\n",
        "        self.name = name\n",
        "        self.sell_in = sell_in\n",
        "        self.quality = quality\n",
        "\n",
        "    def __repr__(self):\n",
        "        return \"%s, %s, %s\" % (self.name, self.sell_in, self.quality)\n",
        "```"
      ]
    },
    {
      "cell_type": "markdown",
      "metadata": {
        "id": "mhMIGzBvbtgs"
      },
      "source": [
        "Here is the set of rules in natural language:"
      ]
    },
    {
      "cell_type": "markdown",
      "metadata": {
        "id": "7cZ0-XeVbmiC"
      },
      "source": [
        "---\n",
        "\n",
        "### Gilded Rose Requirements Specification\n",
        "\n",
        "Hi and welcome to team Gilded Rose. As you know, we are a small inn with a prime location in a prominent city ran by a friendly innkeeper named Allison. We also buy and sell only the finest goods. Unfortunately, our goods are constantly degrading in `Quality` as they approach their sell by date.\n",
        "\n",
        "We have a system in place that updates our inventory for us. It was developed by a no-nonsense type named Leeroy, who has moved on to new adventures. Your task is to add the new feature to our system so that we can begin selling a new category of items. First an introduction to our system:\n",
        "\n",
        "- All `items` have a `SellIn` value which denotes the number of days we have to sell the `items`\n",
        "- All `items` have a `Quality` value which denotes how valuable the item is\n",
        "- At the end of each day our system lowers both values for every item\n",
        "\n",
        "Pretty simple, right? Well this is where it gets interesting:\n",
        "\n",
        "- Once the sell by date has passed, `Quality` degrades twice as fast\n",
        "- The `Quality` of an item is never negative\n",
        "- __\"Aged Brie\"__ actually increases in `Quality` the older it gets\n",
        "- The `Quality` of an item is never more than `50`\n",
        "- __\"Sulfuras\"__, being a legendary item, never has to be sold or decreases in `Quality`\n",
        "- __\"Backstage passes\"__, like aged brie, increases in `Quality` as its `SellIn` value approaches;\n",
        "\t- `Quality` increases by `2` when there are `10` days or less and by `3` when there are `5` days or less but\n",
        "\t- `Quality` drops to `0` after the concert\n",
        "\n",
        "We have recently signed a supplier of conjured items. This requires an update to our system:\n",
        "\n",
        "- __\"Conjured\"__ items degrade in `Quality` twice as fast as normal items\n",
        "\n",
        "Feel free to make any changes to the `UpdateQuality` method and add any new code as long as everything still works correctly. However, do not alter the `Item` class or `Items` property as those belong to the goblin in the corner who will insta-rage and one-shot you as he doesn't believe in shared code ownership (you can make the `UpdateQuality` method and `Items` property static if you like, we'll cover for you).\n",
        "\n",
        "Just for clarification, an item can never have its `Quality` increase above `50`, however __\"Sulfuras\"__ is a legendary item and as such its `Quality` is `80` and it never alters.\n",
        "\n",
        "---"
      ]
    },
    {
      "cell_type": "markdown",
      "metadata": {
        "id": "nMtnMoDWd0hY"
      },
      "source": [
        "## What is DSPy ?\n",
        "\n",
        "\"DSPy is a declarative framework for building modular AI software. It allows you to **iterate fast on structured code**, rather than brittle strings, and offers algorithms that **compile AI programs into effective prompts and weights** for your language models, whether you're building simple classifiers, sophisticated RAG pipelines, or Agent loops.\n",
        "\n",
        "Instead of wrangling prompts or training jobs, DSPy (Declarative Self-improving Python) enables you to **build AI software from natural-language modules** and to generically compose them with different models, inference strategies, or learning algorithms. This makes AI software more reliable, maintainable, and portable across models and strategies.\"\n",
        "\n",
        "Read more: https://dspy.ai/."
      ]
    },
    {
      "cell_type": "markdown",
      "metadata": {
        "id": "GMuUDPvWc5xS"
      },
      "source": [
        "![DSPy.jpg](data:image/jpeg;base64,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)"
      ]
    },
    {
      "cell_type": "markdown",
      "metadata": {
        "id": "1jFZCXh7eTZ_"
      },
      "source": [
        "## What's the plan ?\n",
        "\n",
        "We want to delegate the update function as a LM pass using DSPy.\n",
        "\n",
        "You can choose to either update items one by one and loop over the list of items, or provide a whole list of items directly.\n",
        "\n",
        "Similarly, you can decide where to give your LM module agency: for example, by providing it an 'update item tool'."
      ]
    },
    {
      "cell_type": "markdown",
      "metadata": {
        "id": "KKKZrvWJgArX"
      },
      "source": [
        "# Reframing the problem into a DSPy program"
      ]
    },
    {
      "cell_type": "markdown",
      "metadata": {
        "id": "W08U5U8c8Xdj"
      },
      "source": [
        "---\n",
        "## Designing our system\n",
        "\n",
        "Our system will have as an input a set of rules and a list of items to update. It will the return a list of updated items.\n",
        "\n",
        "✍️ Design choices\n",
        "\n",
        "* In this notebook in particular, we will include the rules not as an input but as a hardcoded component of our module, since we aren't interested in having multiple rules sets.\n",
        "\n",
        "* We will do **one item per LM call** to minimize context length because the items are independent. Looping over a list of items is trivial and isn't what we are trying to learn here.\n",
        "\n",
        "* We will use the ChainOfThought DSPy module as a prompt technique because it is suited for step by step rule application. Learn more about DSPy modules in the section \"Defining a DSPy Module\"."
      ]
    },
    {
      "cell_type": "markdown",
      "metadata": {
        "id": "dmYgyyCV1w3g"
      },
      "source": [
        "![image.png](data:image/png;base64,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)"
      ]
    },
    {
      "cell_type": "markdown",
      "metadata": {
        "id": "Td3wngjKa5Dr"
      },
      "source": [
        "---\n",
        "\n",
        "## API & DSPy Setup\n",
        "\n",
        "\n",
        "Let's setup our LM and define some key variables for later."
      ]
    },
    {
      "cell_type": "markdown",
      "metadata": {
        "id": "l2pcGZy-fEWs"
      },
      "source": [
        "We use API-available LLMs for simplicity's sake. If you are hosting your own LLM, refer to DSPy documentation to learn how to connect to it.\n",
        "\n",
        "✍️ First, let's set our API key. This notebook chooses OpenAI as an example."
      ]
    },
    {
      "cell_type": "code",
      "execution_count": null,
      "metadata": {
        "id": "uk4VF1QcU1-T"
      },
      "outputs": [],
      "source": [
        "api_key = '<YOUR-API-KEY-HERE>'"
      ]
    },
    {
      "cell_type": "code",
      "execution_count": null,
      "metadata": {
        "id": "9d7m_GOd4AEQ"
      },
      "outputs": [],
      "source": [
        "# Alternatively, you can store your api keys directly in the Colab, in the Secrets section on the left.\n",
        "# from google.colab import userdata\n",
        "# api_key = userdata.get('OPENAI_API_KEY')"
      ]
    },
    {
      "cell_type": "markdown",
      "metadata": {
        "id": "Rt7knfXVfyxM"
      },
      "source": [
        "The following call lists available models and serves as an OpenAI API key test."
      ]
    },
    {
      "cell_type": "code",
      "execution_count": null,
      "metadata": {
        "id": "frHv0mo6YXsa"
      },
      "outputs": [],
      "source": [
        "import requests\n",
        "response = requests.get(\n",
        "  'https://api.openai.com/v1/models',\n",
        "  headers={\n",
        "    'Authorization': 'Bearer ' + api_key,\n",
        "    'Content-Type': 'application/json'\n",
        "  }\n",
        ")\n",
        "assert response.status_code == 200, response.text\n",
        "print([model['id'] for model in response.json()['data']])"
      ]
    },
    {
      "cell_type": "markdown",
      "metadata": {
        "id": "U_SiXfa-7vNd"
      },
      "source": [
        "Install required libraries. Don't worry if pip complains about `torch` and `gcsfs` requirements."
      ]
    },
    {
      "cell_type": "code",
      "execution_count": null,
      "metadata": {
        "id": "cZ4VE6gb7yen"
      },
      "outputs": [],
      "source": [
        "!pip install -qq dspy==2.6.26"
      ]
    },
    {
      "cell_type": "markdown",
      "metadata": {
        "id": "F3Jb9gvo2mF6"
      },
      "source": [
        "Fix Pydantic version to avoid specific warnings:"
      ]
    },
    {
      "cell_type": "code",
      "execution_count": null,
      "metadata": {
        "id": "1zufonCe0IUm"
      },
      "outputs": [],
      "source": [
        "!pip install -qq pydantic==2.11.7"
      ]
    },
    {
      "cell_type": "markdown",
      "metadata": {
        "id": "JpnZSTIIJwnw"
      },
      "source": [
        "Set up LMs. We choose the GPT-4.1 family, which is known for having good instruction following (https://openai.com/index/gpt-4-1/)."
      ]
    },
    {
      "cell_type": "code",
      "execution_count": null,
      "metadata": {
        "id": "aeb10HYcJzoQ"
      },
      "outputs": [],
      "source": [
        "import dspy\n",
        "\n",
        "# Define LMs in the GPT-4.1 family.\n",
        "gpt_4_1 = dspy.LM(\"openai/gpt-4.1\", api_key=api_key)\n",
        "gpt_4_1_mini = dspy.LM(\"openai/gpt-4.1-mini\", api_key=api_key)\n",
        "gpt_4_1_nano = dspy.LM(\"openai/gpt-4.1-nano\", api_key=api_key)\n",
        "\n",
        "# Use GPT-4.1 nano as the base LM for DSPy. It works well in our test.\n",
        "dspy.configure(lm=gpt_4_1_mini)"
      ]
    },
    {
      "cell_type": "markdown",
      "metadata": {
        "id": "4gXEPo504TNr"
      },
      "source": [
        "✍️ Let's store the rules of the Guilded Rose in a string. You can just copy paste them.\n",
        "\n",
        "⚠️ Some conventions to remove ambiguity:\n",
        "- All items `sell_in` always decrement, even for Legendary items\n",
        "- Once the sell by date has passed, `quality` degrades twice as fast, but also improves twice as fast for __Aged Brie__."
      ]
    },
    {
      "cell_type": "code",
      "execution_count": null,
      "metadata": {
        "id": "0NjqRF8e4r37"
      },
      "outputs": [],
      "source": [
        "RAW_RULES = ..."
      ]
    },
    {
      "cell_type": "markdown",
      "metadata": {
        "id": "ocQaNjvi40oJ"
      },
      "source": [
        "---\n",
        "## Defining a Signature for our program\n",
        "\n",
        "Now let's define a DSPy signature for the update of an item.\n",
        "\n",
        "When we assign tasks to LMs in DSPy, we specify the behavior we need as a Signature.\n",
        "A signature is a declarative specification of input/output behavior of a DSPy module. Signatures allow you to tell the LM what it needs to do, rather than specify how we should ask the LM to do it.\n",
        "\n",
        "Learn more here: https://dspy.ai/learn/programming/signatures/\n",
        "\n",
        "The strings you use are semantically analyzed. Names matter!\n",
        "\n",
        "Here are examples of Signatures definition:\n",
        "```python\n",
        "import dspy\n",
        "from typing import Literal\n",
        "\n",
        "# Simple inline signature\n",
        "rag = \"question, context -> answer\"\n",
        "\n",
        "\n",
        "# Inline signature with typing\n",
        "multiply = \"number: float, number: float -> multiplied_numbers: float\"\n",
        "\n",
        "\n",
        "# Class based signature\n",
        "class Emotion(dspy.Signature):\n",
        "  \"\"\"Classify emotion.\"\"\"\n",
        "  sentence: str = dspy.InputField()\n",
        "  sentiment: Literal['sadness', 'joy', 'love', 'anger', 'fear', 'surprise'] = dspy.OutputField()\n",
        "\n",
        "\n",
        "# Using custom types\n",
        "class QueryResult(pydantic.BaseModel):\n",
        "  text: str\n",
        "  score: float\n",
        "\n",
        "signature = dspy.Signature(\"query: str -> result: QueryResult\")\n",
        "```"
      ]
    },
    {
      "cell_type": "markdown",
      "metadata": {
        "id": "laoCzmT1tXEX"
      },
      "source": [
        "✍️ First, define a pydantic.BaseModel Item class with properties name, sell_in and quality."
      ]
    },
    {
      "cell_type": "code",
      "execution_count": null,
      "metadata": {
        "id": "ZhcP3fcftiMS"
      },
      "outputs": [],
      "source": [
        "import pydantic\n",
        "\n",
        "class Item(pydantic.BaseModel):\n",
        "  \"\"\"...\"\"\"\n",
        "  ..."
      ]
    },
    {
      "cell_type": "code",
      "execution_count": null,
      "metadata": {
        "id": "V9irR5N74yLc"
      },
      "outputs": [],
      "source": [
        "example_item = Item(name=\"test_item\", sell_in=10, quality=20)\n",
        "example_item"
      ]
    },
    {
      "cell_type": "markdown",
      "metadata": {
        "id": "tgtD-46n8GEH"
      },
      "source": [
        "✍️ Define a signature for the future update_single_item function. It must have an Item as input and an updated Item as an output. The signature must also include the Rules to follow when updating."
      ]
    },
    {
      "cell_type": "code",
      "execution_count": null,
      "metadata": {
        "id": "vYbQ50YG7dTF"
      },
      "outputs": [],
      "source": [
        "import dspy\n",
        "\n",
        "class QualityUpdate(dspy.Signature):\n",
        "  ..."
      ]
    },
    {
      "cell_type": "markdown",
      "metadata": {
        "id": "yRu2OddJ8kWX"
      },
      "source": [
        "---\n",
        "## Defining a DSPy Module\n",
        "\n",
        "Now, let's define the DSPy module for our function.\n",
        "\n",
        "A DSPy module is a building block for programs that use LMs. You can use internal DSPy modules or create your own. Learn more here: https://dspy.ai/learn/programming/modules/\n",
        "\n",
        "Here are examples of internal modules:\n",
        "\n",
        "*   **dspy.Predict**: Basic predictor. Does not modify the signature. Handles the key forms of learning (i.e., storing the instructions and demonstrations and updates to the LM).\n",
        "\n",
        "*   **dspy.ChainOfThought**: Teaches the LM to think step-by-step before committing to the signature's response.\n",
        "\n",
        "*   **dspy.ProgramOfThought**: Teaches the LM to output code, whose execution results will dictate the response.\n",
        "\n",
        "*   **dspy.ReAct**: An agent that can use tools to implement the given signature.\n",
        "\n",
        "*   **dspy.MultiChainComparison**: Can compare multiple outputs from ChainOfThought to produce a final prediction.\n",
        "\n",
        "*   **dspy.majority**: Can do basic voting to return the most popular response from a set of predictions.\n",
        "\n",
        "Here are some examples of module definitions:\n",
        "```python\n",
        "# Simple user answerer\n",
        "answer_user = dspy.Predict('user_message -> answer')\n",
        "answer_user(user_message='Hello there!')\n",
        "\n",
        "# Chain Of Thoughts module\n",
        "math = dspy.ChainOfThought(\"question -> answer: float\")\n",
        "math(question=\"Two dice are tossed. What is the probability that the sum equals two?\")\n",
        "\n",
        "\n",
        "# Reason and Act (ReAct) agent\n",
        "def evaluate_math(expression: str) -> float:\n",
        "    return dspy.PythonInterpreter({}).execute(expression)\n",
        "\n",
        "def search_wikipedia(query: str) -> str:\n",
        "    results = dspy.ColBERTv2(url='http://20.102.90.50:2017/wiki17_abstracts')(query, k=3)\n",
        "    return [x['text'] for x in results]\n",
        "\n",
        "react = dspy.ReAct(\"question -> answer: float\", tools=[evaluate_math, search_wikipedia])\n",
        "prediction = react(question=\"What is 9362158 divided by the year of birth of David Gregory of Kinnairdy castle?\")\n",
        "```\n"
      ]
    },
    {
      "cell_type": "markdown",
      "metadata": {
        "id": "1RpzMxb6_nWs"
      },
      "source": [
        "✍️ Choose a module for the update_item_quality function. Use the previously defined Signature as an argument to the module."
      ]
    },
    {
      "cell_type": "code",
      "execution_count": null,
      "metadata": {
        "id": "tIMaG1S8_xfa"
      },
      "outputs": [],
      "source": [
        "item_updater_module = ..."
      ]
    },
    {
      "cell_type": "markdown",
      "metadata": {
        "id": "eUtRdcYdxMKf"
      },
      "source": [
        "## Testing our program\n",
        "\n",
        "You now have a simple DSPy program, containing a single module. In reality, you can create your own modules and compose them to create complex AI systems."
      ]
    },
    {
      "cell_type": "markdown",
      "metadata": {
        "id": "xrXEaVaA_5RH"
      },
      "source": [
        "Let's try our program with a test example."
      ]
    },
    {
      "cell_type": "code",
      "execution_count": null,
      "metadata": {
        "id": "w-rsHzrGAH1x"
      },
      "outputs": [],
      "source": [
        "test_item = Item(name=\"test_item\", sell_in=10, quality=20)\n",
        "prediction = item_updater_module(item=test_item)\n",
        "prediction"
      ]
    },
    {
      "cell_type": "markdown",
      "metadata": {
        "id": "wglfzSJOvV_z"
      },
      "source": [
        "Is the answer right? According to the rules, our item should have lost one quality point and one sell_in point. Let's check:"
      ]
    },
    {
      "cell_type": "code",
      "execution_count": null,
      "metadata": {
        "id": "bhgoWY7KvwV5"
      },
      "outputs": [],
      "source": [
        "updated_item = prediction.updated_item\n",
        "\n",
        "if updated_item.quality == test_item.quality - 1 and updated_item.sell_in == test_item.sell_in - 1:\n",
        "  print(\"✅ Congratulation, you have successfully reframed the problem into a LM pass with DSPy!\")\n",
        "else:\n",
        "  print(\"❌ Something went wrong. Inspect the output of the previous cell to learn more.\")"
      ]
    },
    {
      "cell_type": "markdown",
      "metadata": {
        "id": "q18tNkaQwSkm"
      },
      "source": [
        "Behind the hood, DSPy used our definitions to craft a prompt and extract the answer. Let's inspect what happened internally:"
      ]
    },
    {
      "cell_type": "code",
      "execution_count": null,
      "metadata": {
        "id": "Zrlhqu2RwmPg"
      },
      "outputs": [],
      "source": [
        "dspy.inspect_history(n=1)"
      ]
    },
    {
      "cell_type": "markdown",
      "metadata": {
        "id": "KD7OUMkXw2xf"
      },
      "source": [
        "# Going further 1: Evaluating our program\n",
        "\n",
        "Once you have an initial system, it's time to collect an initial development set so you can refine it more systematically. Even 20 input examples of your task can be useful, though 200 goes a long way. Depending on your metric, you either just need inputs and no labels at all, or you need inputs and the final outputs of your system.\n",
        "\n",
        "Read more: https://dspy.ai/learn/evaluation/overview/"
      ]
    },
    {
      "cell_type": "markdown",
      "metadata": {
        "id": "FUDQPs1nAJ53"
      },
      "source": [
        "---\n",
        "\n",
        "## Building a dataset\n",
        "\n",
        "In order to evaluate and optimize our module, we need a dataset with different items and their updated versions.\n",
        "\n",
        "Read more here: https://dspy.ai/learn/evaluation/data/"
      ]
    },
    {
      "cell_type": "markdown",
      "metadata": {
        "id": "RxCqt-COCSGO"
      },
      "source": [
        "In our case, we will \"cheat\" and generate the ground truth part of the dataset with the original code that needed refactoring.\n",
        "\n",
        "✍️ Let's define a ground truth function to facilitate dataset creation.\n",
        "Since this is not the focus of the task, we provide an AI-generated solution."
      ]
    },
    {
      "cell_type": "code",
      "execution_count": null,
      "metadata": {
        "id": "DapFbQz4ATyi"
      },
      "outputs": [],
      "source": [
        "# Generated by Gemini\n",
        "def update_quality_for_item(item: Item) -> Item:\n",
        "    \"\"\"\n",
        "    Updates the quality and sell_in for a single item based on the Gilded Rose rules.\n",
        "    This function is a corrected and refactored implementation.\n",
        "\n",
        "    Args:\n",
        "        item: The item to be updated.\n",
        "\n",
        "    Returns:\n",
        "        A new Item instance with updated values.\n",
        "    \"\"\"\n",
        "    # Create a copy to avoid modifying the original item in place\n",
        "    updated_item = item.model_copy()\n",
        "\n",
        "    # Rule: At the end of each day our system lowers the sell_in value for every item (except Sulfuras).\n",
        "    updated_item.sell_in -= 1\n",
        "\n",
        "    # Rule: \"Sulfuras\", being a legendary item, never has to be sold or decreases in Quality.\n",
        "    # Its Quality is 80 and it never alters.\n",
        "    if \"Sulfuras\" in updated_item.name:\n",
        "        return updated_item # No changes to Sulfuras quality\n",
        "\n",
        "    # Determine the rate of quality change based on item type\n",
        "    if \"Aged Brie\" in updated_item.name:\n",
        "        # Rule: \"Aged Brie\" actually increases in Quality the older it gets.\n",
        "        # Rule: past the sell date, \"Aged Brie\" does NOT improve its quality twice as fast.\n",
        "        quality_change = 2 if updated_item.sell_in < 0 else 1\n",
        "        updated_item.quality += quality_change\n",
        "\n",
        "    elif \"Backstage passes\" in updated_item.name:\n",
        "        # Rule: \"Backstage passes\" quality logic.\n",
        "        if updated_item.sell_in < 0:\n",
        "            # Rule: Quality drops to 0 after the concert.\n",
        "            updated_item.quality = 0\n",
        "        elif updated_item.sell_in < 5:\n",
        "            # Rule: Quality increases by 3 when there are 5 days or less.\n",
        "            updated_item.quality += 3\n",
        "        elif updated_item.sell_in < 10:\n",
        "            # Rule: Quality increases by 2 when there are 10 days or less.\n",
        "            updated_item.quality += 2\n",
        "        else:\n",
        "            # Default increase for passes with more than 10 days left.\n",
        "            updated_item.quality += 1\n",
        "\n",
        "    elif \"Conjured\" in updated_item.name:\n",
        "        # Rule: \"Conjured\" items degrade in Quality twice as fast as normal items.\n",
        "        quality_change = -4 if updated_item.sell_in < 0 else -2\n",
        "        updated_item.quality += quality_change\n",
        "\n",
        "    else: # Normal items\n",
        "        # Rule: At the end of each day our system lowers quality for every item.\n",
        "        # Rule: Once the sell by date has passed, Quality degrades twice as fast.\n",
        "        quality_change = -2 if updated_item.sell_in < 0 else -1\n",
        "        updated_item.quality += quality_change\n",
        "\n",
        "\n",
        "    # Rule: The Quality of an item is never more than 50 (for non-legendary items).\n",
        "    if updated_item.quality > 50:\n",
        "        updated_item.quality = 50\n",
        "\n",
        "    # Rule: The Quality of an item is never negative.\n",
        "    if updated_item.quality < 0:\n",
        "        updated_item.quality = 0\n",
        "\n",
        "    return updated_item"
      ]
    },
    {
      "cell_type": "markdown",
      "metadata": {
        "id": "i4OQZyJy1nLs"
      },
      "source": [
        "Let's run a few tests with known updates to make sure our function is right."
      ]
    },
    {
      "cell_type": "code",
      "execution_count": null,
      "metadata": {
        "id": "fGriVnFczdAE"
      },
      "outputs": [],
      "source": [
        "# Generated with Gemini\n",
        "def test_ground_truth_with_hardcoded_cases():\n",
        "    \"\"\"\n",
        "    Tests the ground_truth_update_item_quality function against a comprehensive,\n",
        "    hard-coded suite of edge cases and reports any failures.\n",
        "    \"\"\"\n",
        "\n",
        "    # This list contains tuples of (initial_item, expected_item_after_update)\n",
        "    test_suite: List[Tuple[Item, Item]] = [\n",
        "        # --- Normal Item Edge Cases ---\n",
        "        (Item(name=\"Normal Item\", sell_in=10, quality=20), Item(name=\"Normal Item\", sell_in=9, quality=19)),\n",
        "        (Item(name=\"Normal Item\", sell_in=0, quality=20), Item(name=\"Normal Item\", sell_in=-1, quality=18)),\n",
        "        (Item(name=\"Normal Item\", sell_in=10, quality=0), Item(name=\"Normal Item\", sell_in=9, quality=0)),\n",
        "\n",
        "        # --- Aged Brie Edge Cases ---\n",
        "        (Item(name=\"Aged Brie\", sell_in=10, quality=20), Item(name=\"Aged Brie\", sell_in=9, quality=21)),\n",
        "        (Item(name=\"Aged Brie\", sell_in=1, quality=20), Item(name=\"Aged Brie\", sell_in=0, quality=21)),\n",
        "        (Item(name=\"Aged Brie\", sell_in=0, quality=20), Item(name=\"Aged Brie\", sell_in=-1, quality=22)),\n",
        "        (Item(name=\"Aged Brie\", sell_in=-1, quality=50), Item(name=\"Aged Brie\", sell_in=-2, quality=50)),\n",
        "\n",
        "        # --- Sulfuras (Legendary) Edge Cases ---\n",
        "        (Item(name=\"Sulfuras, Hand of Ragnaros\", sell_in=0, quality=80), Item(name=\"Sulfuras, Hand of Ragnaros\", sell_in=-1, quality=80)),\n",
        "        (Item(name=\"Sulfuras, Hand of Ragnaros\", sell_in=-1, quality=80), Item(name=\"Sulfuras, Hand of Ragnaros\", sell_in=-2, quality=80)),\n",
        "\n",
        "        # --- Backstage Passes Edge Cases ---\n",
        "        (Item(name=\"Backstage passes to a TAFKAL80ETC concert\", sell_in=15, quality=20), Item(name=\"Backstage passes to a TAFKAL80ETC concert\", sell_in=14, quality=21)),\n",
        "        (Item(name=\"Backstage passes to a TAFKAL80ETC concert\", sell_in=10, quality=20), Item(name=\"Backstage passes to a TAFKAL80ETC concert\", sell_in=9, quality=22)),\n",
        "        (Item(name=\"Backstage passes to a TAFKAL80ETC concert\", sell_in=10, quality=49), Item(name=\"Backstage passes to a TAFKAL80ETC concert\", sell_in=9, quality=50)),\n",
        "        (Item(name=\"Backstage passes to a TAFKAL80ETC concert\", sell_in=5, quality=20), Item(name=\"Backstage passes to a TAFKAL80ETC concert\", sell_in=4, quality=23)),\n",
        "        (Item(name=\"Backstage passes to a TAFKAL80ETC concert\", sell_in=5, quality=48), Item(name=\"Backstage passes to a TAFKAL80ETC concert\", sell_in=4, quality=50)),\n",
        "        (Item(name=\"Backstage passes to a TAFKAL80ETC concert\", sell_in=0, quality=20), Item(name=\"Backstage passes to a TAFKAL80ETC concert\", sell_in=-1, quality=0)),\n",
        "\n",
        "        # --- Conjured Item Edge Cases ---\n",
        "        (Item(name=\"Conjured Mana Cake\", sell_in=10, quality=20), Item(name=\"Conjured Mana Cake\", sell_in=9, quality=18)),\n",
        "        (Item(name=\"Conjured Mana Cake\", sell_in=10, quality=1), Item(name=\"Conjured Mana Cake\", sell_in=9, quality=0)),\n",
        "        (Item(name=\"Conjured Mana Cake\", sell_in=0, quality=20), Item(name=\"Conjured Mana Cake\", sell_in=-1, quality=16)),\n",
        "        (Item(name=\"Conjured Mana Cake\", sell_in=-1, quality=3), Item(name=\"Conjured Mana Cake\", sell_in=-2, quality=0)),\n",
        "    ]\n",
        "\n",
        "    failures = []\n",
        "\n",
        "    for initial_item, expected_item in test_suite:\n",
        "        actual_item = update_quality_for_item(initial_item.model_copy())\n",
        "        if actual_item != expected_item:\n",
        "            failures.append({\n",
        "                \"input\": initial_item,\n",
        "                \"expected\": expected_item,\n",
        "                \"actual\": actual_item\n",
        "            })\n",
        "\n",
        "    if not failures:\n",
        "        print(f\"\\n✅ All {len(test_suite)} hard-coded test cases passed!\")\n",
        "    else:\n",
        "        print(f\"\\n❌ {len(failures)} out of {len(test_suite)} hard-coded test cases failed. ❌\")\n",
        "        print(\"\\n--- Summary of Failing Cases ---\")\n",
        "        for i, failure in enumerate(failures):\n",
        "            print(f\"\\n--- Failure #{i+1} ---\")\n",
        "            print(f\"  Input:    {failure['input']}\")\n",
        "            print(f\"  Expected: {failure['expected']}\")\n",
        "            print(f\"  Actual:   {failure['actual']}\")\n",
        "\n",
        "# --- Run the Test ---\n",
        "test_ground_truth_with_hardcoded_cases()"
      ]
    },
    {
      "cell_type": "markdown",
      "metadata": {
        "id": "_-gjEKcyCGHE"
      },
      "source": [
        "Now, we just need examples of items to compute the update.\n",
        "\n",
        "✍️ Let's define a few items for testing. Don't hesitate to use loops to create a big dataset programmatically.\n",
        "\n",
        "Think of edge cases! For example, don't poison your dataset with Sulfuras items with quality other than 80 and sell_in other than 0.\n",
        "\n",
        "Since this is not the focus of the task, we provide an AI-generated solution."
      ]
    },
    {
      "cell_type": "code",
      "execution_count": null,
      "metadata": {
        "id": "B9h6C_ZvH73H"
      },
      "outputs": [],
      "source": [
        "from typing import Tuple, List\n",
        "\n",
        "# Generated by Gemini\n",
        "def generate_test_cases() -> List[Tuple[Item, Item]]:\n",
        "    \"\"\"\n",
        "    Generates a comprehensive dataset of items and their expected updated state.\n",
        "\n",
        "    Returns:\n",
        "        A list of tuples, where each tuple is (initial_item, updated_item).\n",
        "    \"\"\"\n",
        "\n",
        "    initial_items: List[Item] = []\n",
        "\n",
        "    # Define the item types to test\n",
        "    base_names = [\n",
        "        \"Normal Item\",\n",
        "        \"Aged Brie\",\n",
        "        \"Backstage passes to a TAFKAL80ETC concert\",\n",
        "        \"Sulfuras, Hand of Ragnaros\",\n",
        "        \"Conjured Mana Cake\" # Conjured item is its own type\n",
        "    ]\n",
        "\n",
        "    # Generate a wide range of sell_in and quality values\n",
        "    for name in base_names:\n",
        "        # Test values around critical thresholds (0, 5, 10 for passes) and beyond\n",
        "        for sell_in in range(-2, 16):\n",
        "             # Test values around quality limits (0, 50) and in between\n",
        "            for quality in range(0, 51):\n",
        "                if \"Sulfuras\" in name:\n",
        "                    # Sulfuras has fixed quality and sell_in, only needs one entry\n",
        "                    if not any(item.name == name for item in initial_items):\n",
        "                         initial_items.append(Item(name=name, sell_in=0, quality=80))\n",
        "                else:\n",
        "                    initial_items.append(Item(name=name, sell_in=sell_in, quality=quality))\n",
        "\n",
        "    # Generate the final list of (before, after) tuples\n",
        "    test_suite = []\n",
        "    for item in initial_items:\n",
        "        updated_item = update_quality_for_item(item)\n",
        "        test_suite.append((item, updated_item))\n",
        "\n",
        "    return test_suite"
      ]
    },
    {
      "cell_type": "code",
      "execution_count": null,
      "metadata": {
        "id": "qJ9KhGbQ6x--"
      },
      "outputs": [],
      "source": [
        "# Generate and print the test cases\n",
        "gilded_rose_test_suite = generate_test_cases()\n",
        "print(f\"Number of test cases: {len(gilded_rose_test_suite)}\")"
      ]
    },
    {
      "cell_type": "code",
      "execution_count": null,
      "metadata": {
        "id": "PtH7NtJI1dYp"
      },
      "outputs": [],
      "source": [
        "import random\n",
        "\n",
        "# Example: Print the 20 random cases to see the format\n",
        "for i, (before, after) in enumerate(random.sample(gilded_rose_test_suite, 20)):\n",
        "    print(f\"---\")\n",
        "    print(f\"Before: {before}\")\n",
        "    print(f\"After:  {after}\\n\")"
      ]
    },
    {
      "cell_type": "markdown",
      "metadata": {
        "id": "ivdiJKCVIQuU"
      },
      "source": [
        "---\n",
        "\n",
        "## Declaring DSPy Examples\n",
        "\n",
        "DSPy uses the Example class to store examples.\n",
        "\n",
        "Here is an example:\n",
        "\n",
        "```python\n",
        "qa_pair = dspy.Example(\n",
        "  question=\"This is a question?\",\n",
        "  answer=\"This is an answer.\"\n",
        ").with_inputs(\"question\")  # define which are inputs\n",
        "\n",
        "generic_example = dspy.Example(field1=value1, field2=value2, field3=value3, ...)\n",
        "```\n",
        "\n",
        "Read more: https://dspy.ai/deep-dive/data-handling/examples/"
      ]
    },
    {
      "cell_type": "markdown",
      "metadata": {
        "id": "uzvroJCSDZL6"
      },
      "source": [
        "✍️ Let's store our dataset in a a list of Example objects.\n",
        "\n",
        "⚠️ The labels should only include the updated items, which we extract from the Prediction. For example, reasoning in the dataset."
      ]
    },
    {
      "cell_type": "code",
      "execution_count": null,
      "metadata": {
        "id": "wuVxD82iDcb7"
      },
      "outputs": [],
      "source": [
        "from typing import List\n",
        "\n",
        "examples_dataset : List[dspy.Example] = ..."
      ]
    },
    {
      "cell_type": "code",
      "execution_count": null,
      "metadata": {
        "id": "UIeahmkY4No_"
      },
      "outputs": [],
      "source": [
        "print(\"First item of the dataset:\")\n",
        "print(examples_dataset[0])"
      ]
    },
    {
      "cell_type": "markdown",
      "metadata": {
        "id": "lH_wueKXIWK6"
      },
      "source": [
        "---\n",
        "\n",
        "## Declaring a Metric"
      ]
    },
    {
      "cell_type": "markdown",
      "metadata": {
        "id": "jcBz0UmgAw9v"
      },
      "source": [
        "Let's define a Metric to evaluate and later optimize our DSPy program. A metric is just a function that will take examples from your data and the output of your system and return a score that quantifies how good the output is.\n",
        "\n",
        "DSPy is a machine learning framework, so you must think about your automatic metrics for evaluation (to track your progress) and optimization (so DSPy can make your programs more effective).\n",
        "\n",
        "Read more here: https://dspy.ai/learn/evaluation/metrics/\n",
        "\n",
        "Here is an example of DSPy Metric:\n",
        "\n",
        "```python\n",
        "def validate_answer(example, prediction) -> bool:\n",
        "    return example.ground_truth_answer == prediction.answer\n",
        "```\n",
        "\n",
        "Note: you could compute the ground truth in the function. In our case, it would signify using the `ground_truth_update_item_quality` function inside the metric. However, we will follow the DSPy guidelines and pass the ground truth as an Example to the metric function."
      ]
    },
    {
      "cell_type": "markdown",
      "metadata": {
        "id": "SxrSanuPFef6"
      },
      "source": [
        "✍️ Let's define a metric function that evaluates if an item has been updated correctly by using the ground truth in the example.\n",
        "\n",
        "⚠️ The input should be a `dspy.Example`, a `dspy.Prediction` and an optional argument `trace` with value `None` by default. This third argument is used by optimizers later on."
      ]
    },
    {
      "cell_type": "code",
      "execution_count": null,
      "metadata": {
        "id": "r7RHSeRKFm4Q"
      },
      "outputs": [],
      "source": [
        "def update_metric(example_data: dspy.Example, prediction: dspy.Prediction, trace=None) -> bool:\n",
        "  \"\"\"Returns True if the updated item follows the Guilded Rose quality update specifications.\"\"\"\n",
        "  ..."
      ]
    },
    {
      "cell_type": "markdown",
      "metadata": {
        "id": "OLpYMdKo-Yrm"
      },
      "source": [
        "Note: the metrics can be much more creative. For example, you could use AI feedback to evaluate if the reasoning doesn't omit any rule.\n",
        "\n",
        "Let's test the metric with a few predicted values."
      ]
    },
    {
      "cell_type": "code",
      "execution_count": null,
      "metadata": {
        "id": "k5nyDmty-cOg"
      },
      "outputs": [],
      "source": [
        "example = examples_dataset[0]\n",
        "prediction = item_updater_module(item=example.item)\n",
        "print(prediction)\n",
        "print(\"✅ Pass!\" if update_metric(example, prediction) else \"❌ Fail!\")"
      ]
    },
    {
      "cell_type": "markdown",
      "metadata": {
        "id": "wuch8xij7GmL"
      },
      "source": [
        "You now have a way to evaluate your program!"
      ]
    },
    {
      "cell_type": "markdown",
      "metadata": {
        "id": "Fjl1-jkubGdu"
      },
      "source": [
        "---\n",
        "\n",
        "## Evaluating our program\n",
        "\n",
        "Let's do a simple evaluation using DSPy's Evaluate utility.\n",
        "\n",
        "Read mode: https://dspy.ai/api/evaluation/Evaluate/."
      ]
    },
    {
      "cell_type": "markdown",
      "metadata": {
        "id": "F1WRBn00Do35"
      },
      "source": [
        "✍️ Let's start by creating a validation set of `examples_dataset` samples. Try not to go under 100 samples for this easy task or you might not catch some edge cases."
      ]
    },
    {
      "cell_type": "code",
      "execution_count": null,
      "metadata": {
        "id": "Vb4kG5yJDjG9"
      },
      "outputs": [],
      "source": [
        "import random\n",
        "\n",
        "validation_set = ..."
      ]
    },
    {
      "cell_type": "markdown",
      "metadata": {
        "id": "oUQn1UyyD6DI"
      },
      "source": [
        "✍️ Let's declare the Evaluate utility. Set `devset` to the validation set you have just created."
      ]
    },
    {
      "cell_type": "code",
      "execution_count": null,
      "metadata": {
        "id": "j6i9cmiz7VRo"
      },
      "outputs": [],
      "source": [
        "from dspy.evaluate import Evaluate\n",
        "\n",
        "# Evaluate with random examples\n",
        "evaluator = Evaluate(\n",
        "  devset=...,  # TODO\n",
        "  num_threads=4,\n",
        "  display_progress=True,\n",
        "  display_table=True\n",
        ")"
      ]
    },
    {
      "cell_type": "markdown",
      "metadata": {
        "id": "3ijlPRq-Aiwy"
      },
      "source": [
        "⚠️ Tip: always make sure you run eval with the right lm by using this snippet :\n",
        " ```python\n",
        " with dspy.context(lm=...):\n",
        "  ...\n",
        " ```"
      ]
    },
    {
      "cell_type": "code",
      "execution_count": null,
      "metadata": {
        "id": "pIbEMyhH8B0U"
      },
      "outputs": [],
      "source": [
        "# Launch evaluation with 4.1 mini.\n",
        "with dspy.context(lm=gpt_4_1_mini):\n",
        "  results_mini_unoptimized = evaluator(\n",
        "    ...,  # Module to optimze\n",
        "    ...  # Metric to evaluate\n",
        "  )\n",
        "  print(f\"Accuracy GPT-4.1 mini: {results_mini_unoptimized}%\")"
      ]
    },
    {
      "cell_type": "markdown",
      "metadata": {
        "id": "7JIFJt2rEedn"
      },
      "source": [
        "If your accuracy is already 100%, you can try to a smaller model like gpt-4.1-nano and try to optimize it. For reference, I got 97% with mini and 82% with nano."
      ]
    },
    {
      "cell_type": "code",
      "execution_count": null,
      "metadata": {
        "id": "l5iKBM-4-n28"
      },
      "outputs": [],
      "source": [
        "# Launch evaluation with 4.1 nano.\n",
        "with dspy.context(lm=gpt_4_1_nano):\n",
        "  results_nano_unoptimized = evaluator(\n",
        "    ...,  # Module to optimze\n",
        "    ...  # Metric to evaluate\n",
        "  )\n",
        "  print(f\"Accuracy GPT-4.1 nano: {results_nano_unoptimized}%\")"
      ]
    },
    {
      "cell_type": "markdown",
      "metadata": {
        "id": "AW8f1hR--oJ5"
      },
      "source": [
        "If your accuracy is lower than 100%, there can be a few reasons why:\n",
        "- your metric or dataset could be wrong or ambiguous (for example, does the Aged Brie quality improves twice as fast after the sell date?)\n",
        "- the model might not be powerful enough to tackle the task without optimization (for example, it is believed that models below 7b parameters usually don't have a good world model).\n",
        "\n",
        "In the next part, we will try to optimize our program using DSPy's internal optimizers."
      ]
    },
    {
      "cell_type": "markdown",
      "metadata": {
        "id": "nL2OZSTryA4J"
      },
      "source": [
        "---\n",
        "\n",
        "# Going further 2: Optimizing our program"
      ]
    },
    {
      "cell_type": "markdown",
      "metadata": {
        "id": "CwIfQHZtKj_q"
      },
      "source": [
        "DSPy provides powerful optimizers that tune your program according to your metrics and data. They can act on prompts, signatures, LM weights, ...\n",
        "\n",
        "Learn more: https://dspy.ai/learn/optimization/overview/"
      ]
    },
    {
      "cell_type": "markdown",
      "metadata": {
        "id": "sSwWruvQBR93"
      },
      "source": [
        "⚠️ Reminder: when using an optimizer, your metric function should accept an argument `trace=None`."
      ]
    },
    {
      "cell_type": "markdown",
      "metadata": {
        "id": "QWuAbELUBcYU"
      },
      "source": [
        "⚠️ Reminder: In our case, we are optimizing for accuracy, so make sure you choose a LM that doesn't already saturate the task. In reality, you could optimize for any metric you want. For example, you could try to maximize the number of times the word \"hot-dog\" appears in the answer."
      ]
    },
    {
      "cell_type": "markdown",
      "metadata": {
        "id": "YrMIHlj1A9cm"
      },
      "source": [
        "DSPy recommends using 20% of the dataset as train, and 80% as validation. Read more: https://dspy.ai/learn/optimization/overview/.\n",
        "\n",
        "However, in our case, we have almost saturated the task already with 4.1 nano and we know only a few edge cases are a problem. We will need a big enough train set to have more chances of including the problematic examples.\n",
        "\n",
        "We actually have already defined a validation set in the evaluator.\n",
        "\n",
        "✍️ Let's sample 200 examples from our total dataset `examples_dataset` to make a train set."
      ]
    },
    {
      "cell_type": "code",
      "execution_count": null,
      "metadata": {
        "id": "G9BT4ar7GW8w"
      },
      "outputs": [],
      "source": [
        "import random\n",
        "train_set = ..."
      ]
    },
    {
      "cell_type": "markdown",
      "metadata": {
        "id": "XDODAzY5ZeRR"
      },
      "source": [
        "---\n",
        "\n",
        "## Optimizing the prompt using MIPROv2\n",
        "\n",
        "MIPROv2 (Multiprompt Instruction PRoposal Optimizer Version 2) is an prompt optimizer capable of optimizing both instructions and few-shot examples jointly. It does this by bootstrapping few-shot example candidates, proposing instructions grounded in different dynamics of the task, and finding an optimized combination of these options using Bayesian Optimization. It can be used for optimizing few-shot examples & instructions jointly, or just instructions for 0-shot optimization.\n",
        "\n",
        "Read more: https://dspy.ai/api/optimizers/MIPROv2/"
      ]
    },
    {
      "cell_type": "markdown",
      "metadata": {
        "id": "KD-JtmiCL-mw"
      },
      "source": [
        "✍️ Let's declare the MIPROv2 optimizer. We can use a larger model for prompting in hopes it improves the optimization process."
      ]
    },
    {
      "cell_type": "code",
      "execution_count": null,
      "metadata": {
        "id": "twdMeQNwZrtn"
      },
      "outputs": [],
      "source": [
        "from dspy.teleprompt import MIPROv2\n",
        "\n",
        "miprov2 = MIPROv2(\n",
        "  metric=...,  # the metric to optimize\n",
        "  prompt_model=...,  # a model that will help the optimizer\n",
        "  task_model=...,  # the model you are optimizing your module for\n",
        "  auto=\"heavy\",  # Presets. light, medium or heavy.\n",
        ")"
      ]
    },
    {
      "cell_type": "markdown",
      "metadata": {
        "id": "1x8b5Eh5j6wJ"
      },
      "source": [
        "✍️ Let's launch the optimization with the compile function of the optimizer."
      ]
    },
    {
      "cell_type": "code",
      "execution_count": null,
      "metadata": {
        "id": "MqZVhvsqc7Gk"
      },
      "outputs": [],
      "source": [
        "with dspy.context(lm=gpt_4_1_nano)  # Always make sure you are using the right model !\n",
        "  nano_miprov2_module = miprov2.compile(\n",
        "    ...,  # The module to optimize\n",
        "    trainset=...,\n",
        "    requires_permission_to_run=False,\n",
        "    # provide_traceback=True  # in case of problems\n",
        "  )"
      ]
    },
    {
      "cell_type": "markdown",
      "metadata": {
        "id": "Ffg3vkvikVPL"
      },
      "source": [
        "We can inspect the module with the following cell."
      ]
    },
    {
      "cell_type": "code",
      "execution_count": null,
      "metadata": {
        "id": "GKaMihE3e3Gb"
      },
      "outputs": [],
      "source": [
        "nano_miprov2_module"
      ]
    },
    {
      "cell_type": "markdown",
      "metadata": {
        "id": "PQHBTuJWkcKR"
      },
      "source": [
        "Now, let's evaluate our optimized program using our previously defined `evaluator`."
      ]
    },
    {
      "cell_type": "code",
      "execution_count": null,
      "metadata": {
        "id": "Iak1mHb6eDpr"
      },
      "outputs": [],
      "source": [
        "# Launch evaluation.\n",
        "with dspy.context(lm=gpt_4_1_nano)  # Always make sure you are using the right model !\n",
        "  results_nano_miprov2 = evaluator(nano_miprov2_module, update_metric)"
      ]
    },
    {
      "cell_type": "code",
      "execution_count": null,
      "metadata": {
        "id": "bQQb7ctoehx9"
      },
      "outputs": [],
      "source": [
        "print(f\"Accuracy before: {results_nano_unoptimized}%\")\n",
        "print(f\"Accuracy after: {results_nano_miprov2}%\")"
      ]
    },
    {
      "cell_type": "markdown",
      "metadata": {
        "id": "ujuuJbNUlnbm"
      },
      "source": [
        "It's possible that the results didn't improve, or even got worse. You can either try with larger train set, put more compute into the compilation (MIPROv2 parameters) or try a different optimizer.\n",
        "\n",
        "In our case, we improved 4.1 nano's accuracy from 82% to 94%."
      ]
    },
    {
      "cell_type": "markdown",
      "metadata": {
        "id": "1NIqEvb7gF_v"
      },
      "source": [
        "---\n",
        "\n",
        "## Optimizing the prompt using SIMBA\n",
        "\n",
        "Let's optimize the module using dspy.SIMBA, which stands for **Stochastic Introspective Mini-Batch Ascent**. This prompt optimizer accepts arbitrary DSPy programs and proceeds in a sequence of mini-batches seeking to make incremental improvements to the prompt instructions or few-shot examples.\n",
        "\n",
        "Feel free to skip this section if you already tried an optimization with MIPROv2.\n",
        "\n",
        "Read more: https://dspy.ai/api/optimizers/SIMBA/"
      ]
    },
    {
      "cell_type": "markdown",
      "metadata": {
        "id": "LIFGLkNgQKHV"
      },
      "source": [
        "⚠️ The optimization can take a while and cost a lot depending on parameters.\n",
        "\n",
        "✍️ Use the sliders to tune SIMBA parameters."
      ]
    },
    {
      "cell_type": "code",
      "execution_count": null,
      "metadata": {
        "id": "wq6BzRXvgS5N"
      },
      "outputs": [],
      "source": [
        "bsize = 50 # @param {\"type\":\"slider\",\"min\":32,\"max\":100,\"step\":2}\n",
        "max_steps = 3 # @param {\"type\":\"slider\",\"min\":1,\"max\":8,\"step\":1}\n",
        "max_demos = 4 # @param {\"type\":\"slider\",\"min\":1,\"max\":6,\"step\":1}\n",
        "num_candidates = 2 # @param {\"type\":\"slider\",\"min\":1,\"max\":4,\"step\":1}\n",
        "\n",
        "num_opti_call = num_candidates * bsize * max_steps\n",
        "num_eval_call = (num_candidates + 1) * len(validation_set)\n",
        "\n",
        "print(f\"Estimated optimization API calls: {num_opti_call}\")\n",
        "print(f\"Estimated final evaluation API calls: {num_eval_call}\")"
      ]
    },
    {
      "cell_type": "markdown",
      "metadata": {
        "id": "Yd0akf62mKmC"
      },
      "source": [
        "✍️ Let's declare the SIMBA optimizer using our metric."
      ]
    },
    {
      "cell_type": "code",
      "execution_count": null,
      "metadata": {
        "id": "8H5uddlZPVWa"
      },
      "outputs": [],
      "source": [
        "simba = dspy.SIMBA(\n",
        "  metric=...,  # The metric to optimize\n",
        "  bsize=bsize,  # minibatch size, or how many examples to evaluate a batch on\n",
        "  max_steps=max_steps,  # Number of optimization steps to run.\n",
        "  max_demos=max_demos,  # Maximum number of demos a predictor can hold\n",
        "  num_candidates=num_candidates,  # Number of candidate programs\n",
        "  num_threads=4\n",
        ")"
      ]
    },
    {
      "cell_type": "markdown",
      "metadata": {
        "id": "fD1z-opjhKai"
      },
      "source": [
        "✍️ Let's start the optimization on our `item_updater_module` using our `example_dataset`."
      ]
    },
    {
      "cell_type": "code",
      "execution_count": null,
      "metadata": {
        "id": "Z3JvIoP_gehI"
      },
      "outputs": [],
      "source": [
        "with dspy.context(lm=gpt_4_1_nano)  # Always make sure you are using the right model !\n",
        "  simba_optimized_module = simba.compile(\n",
        "    student = ...,  # Module to optimize\n",
        "    trainset = ...\n",
        "  )"
      ]
    },
    {
      "cell_type": "markdown",
      "metadata": {
        "id": "L90SBbMYAR_D"
      },
      "source": [
        "Let's inspect our compiled module. It is probably different than the one you wrote. You may spot some custom instructions and optimizations."
      ]
    },
    {
      "cell_type": "code",
      "execution_count": null,
      "metadata": {
        "id": "OmSyNMvkAUcS"
      },
      "outputs": [],
      "source": [
        "simba_optimized_module"
      ]
    },
    {
      "cell_type": "markdown",
      "metadata": {
        "id": "0b2qslv-6yAN"
      },
      "source": [
        "Let's evaluate our optimized program again."
      ]
    },
    {
      "cell_type": "code",
      "execution_count": null,
      "metadata": {
        "id": "_krc1TNn7HCl"
      },
      "outputs": [],
      "source": [
        "with dspy.context(lm=gpt_4_1_nano):  # Always make sure you are using the right model !\n",
        "  results_nano_simba = evaluator(simba_optimized_module, update_metric)"
      ]
    },
    {
      "cell_type": "code",
      "execution_count": null,
      "metadata": {
        "id": "bBoJ6dlE64oV"
      },
      "outputs": [],
      "source": [
        "print(f\"Accuracy (unoptimized): {results_nano_unoptimized}\")  # Print your previous score\n",
        "print(f\"Accuracy (optimized): {results_nano_simba}\")"
      ]
    },
    {
      "cell_type": "markdown",
      "metadata": {
        "id": "Vz1e8W7KWWMf"
      },
      "source": [
        "It's possible that the results didn't improve, or even got worse. You can either try with larger train set, put more compute into the compilation (SIMBA parameters) or try a different optimizer.\n",
        "\n",
        "For reference, we jumped from 82% to 97% accuracy in our tests."
      ]
    },
    {
      "cell_type": "markdown",
      "metadata": {
        "id": "hhFH2mTneRBA"
      },
      "source": [
        "---\n",
        "\n",
        "## Saving and loading optimized programs\n",
        "\n",
        "DSPy supports saving and loading programs, enabling you to reuse optimized systems without the need to re-optimize from scratch. This feature is especially useful for deploying your programs in production environments or sharing them with collaborators.\n",
        "\n",
        "In this step, we'll save the optimized program to a file and demonstrate how to load it back for future use."
      ]
    },
    {
      "cell_type": "code",
      "execution_count": null,
      "metadata": {
        "id": "hwdr8KAHeX6t"
      },
      "outputs": [],
      "source": [
        "# Save\n",
        "simba_optimized_module.save(\"simba_optimized_module.json\")\n",
        "nano_miprov2_module.save(\"nano_miprov2_module.json\")"
      ]
    },
    {
      "cell_type": "code",
      "execution_count": null,
      "metadata": {
        "id": "CmSvlgaLTva7"
      },
      "outputs": [],
      "source": [
        "# Load\n",
        "compiled_item_updater_module = dspy.ChainOfThought(QualityUpdate)\n",
        "compiled_item_updater_module.load(\"simba_optimized_module.json\")"
      ]
    },
    {
      "cell_type": "markdown",
      "metadata": {
        "id": "kbvY6z3TbYWq"
      },
      "source": [
        "---\n",
        "\n",
        "## Keeping an eye on cost\n",
        "\n",
        "DSPy allows you to track the cost of your programs. The following code demonstrates how to obtain the cost of all LM calls made by the DSPy extractor program so far."
      ]
    },
    {
      "cell_type": "code",
      "execution_count": null,
      "metadata": {
        "id": "VQ1kztoebbBr"
      },
      "outputs": [],
      "source": [
        "# Cost in USD, as calculated by LiteLLM for certain providers\n",
        "for lm in [gpt_4_1_nano, gpt_4_1_mini, gpt_4_1]:\n",
        "  cost = sum([x['cost'] for x in lm.history if x['cost'] is not None])\n",
        "  print(cost)"
      ]
    }
  ],
  "metadata": {
    "colab": {
      "provenance": [],
      "toc_visible": true
    },
    "kernelspec": {
      "display_name": "Python 3",
      "name": "python3"
    },
    "language_info": {
      "name": "python"
    }
  },
  "nbformat": 4,
  "nbformat_minor": 0
}